{
 "cells": [
  {
   "cell_type": "code",
   "execution_count": 1,
   "id": "3ac0b1da",
   "metadata": {},
   "outputs": [
    {
     "name": "stdout",
     "output_type": "stream",
     "text": [
      "Requirement already satisfied: ydata-profiling in d:\\anaconda\\lib\\site-packages (4.16.1)\n",
      "Requirement already satisfied: scipy<1.16,>=1.4.1 in d:\\anaconda\\lib\\site-packages (from ydata-profiling) (1.15.3)\n",
      "Requirement already satisfied: pandas!=1.4.0,<3.0,>1.1 in d:\\anaconda\\lib\\site-packages (from ydata-profiling) (2.2.2)\n",
      "Requirement already satisfied: matplotlib<=3.10,>=3.5 in d:\\anaconda\\lib\\site-packages (from ydata-profiling) (3.9.2)\n",
      "Requirement already satisfied: pydantic>=2 in d:\\anaconda\\lib\\site-packages (from ydata-profiling) (2.8.2)\n",
      "Requirement already satisfied: PyYAML<6.1,>=5.0.0 in d:\\anaconda\\lib\\site-packages (from ydata-profiling) (6.0.1)\n",
      "Requirement already satisfied: jinja2<3.2,>=2.11.1 in d:\\anaconda\\lib\\site-packages (from ydata-profiling) (3.1.4)\n",
      "Requirement already satisfied: visions<0.8.2,>=0.7.5 in d:\\anaconda\\lib\\site-packages (from visions[type_image_path]<0.8.2,>=0.7.5->ydata-profiling) (0.8.1)\n",
      "Requirement already satisfied: numpy<2.2,>=1.16.0 in d:\\anaconda\\lib\\site-packages (from ydata-profiling) (1.26.4)\n",
      "Requirement already satisfied: htmlmin==0.1.12 in d:\\anaconda\\lib\\site-packages (from ydata-profiling) (0.1.12)\n",
      "Requirement already satisfied: phik<0.13,>=0.11.1 in d:\\anaconda\\lib\\site-packages (from ydata-profiling) (0.12.4)\n",
      "Requirement already satisfied: requests<3,>=2.24.0 in d:\\anaconda\\lib\\site-packages (from ydata-profiling) (2.32.3)\n",
      "Requirement already satisfied: tqdm<5,>=4.48.2 in d:\\anaconda\\lib\\site-packages (from ydata-profiling) (4.66.5)\n",
      "Requirement already satisfied: seaborn<0.14,>=0.10.1 in d:\\anaconda\\lib\\site-packages (from ydata-profiling) (0.13.2)\n",
      "Requirement already satisfied: multimethod<2,>=1.4 in d:\\anaconda\\lib\\site-packages (from ydata-profiling) (1.12)\n",
      "Requirement already satisfied: statsmodels<1,>=0.13.2 in d:\\anaconda\\lib\\site-packages (from ydata-profiling) (0.14.2)\n",
      "Requirement already satisfied: typeguard<5,>=3 in d:\\anaconda\\lib\\site-packages (from ydata-profiling) (4.4.4)\n",
      "Requirement already satisfied: imagehash==4.3.1 in d:\\anaconda\\lib\\site-packages (from ydata-profiling) (4.3.1)\n",
      "Requirement already satisfied: wordcloud>=1.9.3 in d:\\anaconda\\lib\\site-packages (from ydata-profiling) (1.9.4)\n",
      "Requirement already satisfied: dacite>=1.8 in d:\\anaconda\\lib\\site-packages (from ydata-profiling) (1.9.2)\n",
      "Requirement already satisfied: numba<=0.61,>=0.56.0 in d:\\anaconda\\lib\\site-packages (from ydata-profiling) (0.60.0)\n",
      "Requirement already satisfied: PyWavelets in d:\\anaconda\\lib\\site-packages (from imagehash==4.3.1->ydata-profiling) (1.7.0)\n",
      "Requirement already satisfied: pillow in d:\\anaconda\\lib\\site-packages (from imagehash==4.3.1->ydata-profiling) (10.4.0)\n",
      "Requirement already satisfied: MarkupSafe>=2.0 in d:\\anaconda\\lib\\site-packages (from jinja2<3.2,>=2.11.1->ydata-profiling) (2.1.3)\n",
      "Requirement already satisfied: contourpy>=1.0.1 in d:\\anaconda\\lib\\site-packages (from matplotlib<=3.10,>=3.5->ydata-profiling) (1.2.0)\n",
      "Requirement already satisfied: cycler>=0.10 in d:\\anaconda\\lib\\site-packages (from matplotlib<=3.10,>=3.5->ydata-profiling) (0.11.0)\n",
      "Requirement already satisfied: fonttools>=4.22.0 in d:\\anaconda\\lib\\site-packages (from matplotlib<=3.10,>=3.5->ydata-profiling) (4.51.0)\n",
      "Requirement already satisfied: kiwisolver>=1.3.1 in d:\\anaconda\\lib\\site-packages (from matplotlib<=3.10,>=3.5->ydata-profiling) (1.4.4)\n",
      "Requirement already satisfied: packaging>=20.0 in d:\\anaconda\\lib\\site-packages (from matplotlib<=3.10,>=3.5->ydata-profiling) (24.1)\n",
      "Requirement already satisfied: pyparsing>=2.3.1 in d:\\anaconda\\lib\\site-packages (from matplotlib<=3.10,>=3.5->ydata-profiling) (3.1.2)\n",
      "Requirement already satisfied: python-dateutil>=2.7 in d:\\anaconda\\lib\\site-packages (from matplotlib<=3.10,>=3.5->ydata-profiling) (2.9.0.post0)\n",
      "Requirement already satisfied: llvmlite<0.44,>=0.43.0dev0 in d:\\anaconda\\lib\\site-packages (from numba<=0.61,>=0.56.0->ydata-profiling) (0.43.0)\n",
      "Requirement already satisfied: pytz>=2020.1 in d:\\anaconda\\lib\\site-packages (from pandas!=1.4.0,<3.0,>1.1->ydata-profiling) (2024.1)\n",
      "Requirement already satisfied: tzdata>=2022.7 in d:\\anaconda\\lib\\site-packages (from pandas!=1.4.0,<3.0,>1.1->ydata-profiling) (2023.3)\n",
      "Requirement already satisfied: joblib>=0.14.1 in d:\\anaconda\\lib\\site-packages (from phik<0.13,>=0.11.1->ydata-profiling) (1.5.1)\n",
      "Requirement already satisfied: charset-normalizer<4,>=2 in d:\\anaconda\\lib\\site-packages (from requests<3,>=2.24.0->ydata-profiling) (3.3.2)\n",
      "Requirement already satisfied: idna<4,>=2.5 in d:\\anaconda\\lib\\site-packages (from requests<3,>=2.24.0->ydata-profiling) (3.7)\n",
      "Requirement already satisfied: urllib3<3,>=1.21.1 in d:\\anaconda\\lib\\site-packages (from requests<3,>=2.24.0->ydata-profiling) (2.2.3)\n",
      "Requirement already satisfied: certifi>=2017.4.17 in d:\\anaconda\\lib\\site-packages (from requests<3,>=2.24.0->ydata-profiling) (2024.8.30)\n",
      "Requirement already satisfied: patsy>=0.5.6 in d:\\anaconda\\lib\\site-packages (from statsmodels<1,>=0.13.2->ydata-profiling) (0.5.6)\n",
      "Requirement already satisfied: colorama in d:\\anaconda\\lib\\site-packages (from tqdm<5,>=4.48.2->ydata-profiling) (0.4.6)\n",
      "Requirement already satisfied: typing_extensions>=4.14.0 in d:\\anaconda\\lib\\site-packages (from typeguard<5,>=3->ydata-profiling) (4.14.1)\n",
      "Requirement already satisfied: attrs>=19.3.0 in d:\\anaconda\\lib\\site-packages (from visions<0.8.2,>=0.7.5->visions[type_image_path]<0.8.2,>=0.7.5->ydata-profiling) (23.1.0)\n",
      "Requirement already satisfied: networkx>=2.4 in d:\\anaconda\\lib\\site-packages (from visions<0.8.2,>=0.7.5->visions[type_image_path]<0.8.2,>=0.7.5->ydata-profiling) (3.3)\n",
      "Requirement already satisfied: puremagic in d:\\anaconda\\lib\\site-packages (from visions<0.8.2,>=0.7.5->visions[type_image_path]<0.8.2,>=0.7.5->ydata-profiling) (1.30)\n",
      "Requirement already satisfied: six in d:\\anaconda\\lib\\site-packages (from patsy>=0.5.6->statsmodels<1,>=0.13.2->ydata-profiling) (1.16.0)\n",
      "Requirement already satisfied: annotated-types>=0.4.0 in d:\\anaconda\\lib\\site-packages (from pydantic>=2->ydata-profiling) (0.6.0)\n",
      "Requirement already satisfied: pydantic-core==2.20.1 in d:\\anaconda\\lib\\site-packages (from pydantic>=2->ydata-profiling) (2.20.1)\n",
      "Note: you may need to restart the kernel to use updated packages.\n"
     ]
    }
   ],
   "source": [
    "pip install ydata-profiling"
   ]
  },
  {
   "cell_type": "code",
   "execution_count": 2,
   "id": "47e87c23-9f80-4157-9905-b4c07f7e768a",
   "metadata": {},
   "outputs": [
    {
     "data": {
      "text/html": [
       "\n",
       "            <div>\n",
       "                <ins><a href=\"https://ydata.ai/register\">Upgrade to ydata-sdk</a></ins>\n",
       "                <p>\n",
       "                    Improve your data and profiling with ydata-sdk, featuring data quality scoring, redundancy detection, outlier identification, text validation, and synthetic data generation.\n",
       "                </p>\n",
       "            </div>\n",
       "            "
      ],
      "text/plain": [
       "<IPython.core.display.HTML object>"
      ]
     },
     "metadata": {},
     "output_type": "display_data"
    }
   ],
   "source": [
    "import pandas as pd\n",
    "from ydata_profiling import ProfileReport\n",
    "import matplotlib.pyplot as plt\n",
    "%matplotlib inline"
   ]
  },
  {
   "cell_type": "code",
   "execution_count": 3,
   "id": "e0b49e41",
   "metadata": {},
   "outputs": [
    {
     "data": {
      "text/html": [
       "<div>\n",
       "<style scoped>\n",
       "    .dataframe tbody tr th:only-of-type {\n",
       "        vertical-align: middle;\n",
       "    }\n",
       "\n",
       "    .dataframe tbody tr th {\n",
       "        vertical-align: top;\n",
       "    }\n",
       "\n",
       "    .dataframe thead th {\n",
       "        text-align: right;\n",
       "    }\n",
       "</style>\n",
       "<table border=\"1\" class=\"dataframe\">\n",
       "  <thead>\n",
       "    <tr style=\"text-align: right;\">\n",
       "      <th></th>\n",
       "      <th>CustomerID</th>\n",
       "      <th>ProductID</th>\n",
       "      <th>Quantity</th>\n",
       "      <th>Price</th>\n",
       "      <th>TransactionDate</th>\n",
       "      <th>PaymentMethod</th>\n",
       "      <th>StoreLocation</th>\n",
       "      <th>ProductCategory</th>\n",
       "      <th>DiscountApplied(%)</th>\n",
       "      <th>TotalAmount</th>\n",
       "    </tr>\n",
       "  </thead>\n",
       "  <tbody>\n",
       "    <tr>\n",
       "      <th>0</th>\n",
       "      <td>109318</td>\n",
       "      <td>C</td>\n",
       "      <td>7</td>\n",
       "      <td>80.079844</td>\n",
       "      <td>12/26/2023 12:32</td>\n",
       "      <td>Cash</td>\n",
       "      <td>176 Andrew Cliffs\\nBaileyfort, HI 93354</td>\n",
       "      <td>Books</td>\n",
       "      <td>18.677100</td>\n",
       "      <td>455.862764</td>\n",
       "    </tr>\n",
       "    <tr>\n",
       "      <th>1</th>\n",
       "      <td>993229</td>\n",
       "      <td>C</td>\n",
       "      <td>4</td>\n",
       "      <td>75.195229</td>\n",
       "      <td>8/5/2023 0:00</td>\n",
       "      <td>Cash</td>\n",
       "      <td>11635 William Well Suite 809\\nEast Kara, MT 19483</td>\n",
       "      <td>Home Decor</td>\n",
       "      <td>14.121365</td>\n",
       "      <td>258.306546</td>\n",
       "    </tr>\n",
       "    <tr>\n",
       "      <th>2</th>\n",
       "      <td>579675</td>\n",
       "      <td>A</td>\n",
       "      <td>8</td>\n",
       "      <td>31.528816</td>\n",
       "      <td>3/11/2024 18:51</td>\n",
       "      <td>Cash</td>\n",
       "      <td>910 Mendez Ville Suite 909\\nPort Lauraland, MO...</td>\n",
       "      <td>Books</td>\n",
       "      <td>15.943701</td>\n",
       "      <td>212.015651</td>\n",
       "    </tr>\n",
       "    <tr>\n",
       "      <th>3</th>\n",
       "      <td>799826</td>\n",
       "      <td>D</td>\n",
       "      <td>5</td>\n",
       "      <td>98.880218</td>\n",
       "      <td>10/27/2023 22:00</td>\n",
       "      <td>PayPal</td>\n",
       "      <td>87522 Sharon Corners Suite 500\\nLake Tammy, MO...</td>\n",
       "      <td>Books</td>\n",
       "      <td>6.686337</td>\n",
       "      <td>461.343769</td>\n",
       "    </tr>\n",
       "    <tr>\n",
       "      <th>4</th>\n",
       "      <td>121413</td>\n",
       "      <td>A</td>\n",
       "      <td>7</td>\n",
       "      <td>93.188512</td>\n",
       "      <td>12/22/2023 11:38</td>\n",
       "      <td>Cash</td>\n",
       "      <td>0070 Michelle Island Suite 143\\nHoland, VA 80142</td>\n",
       "      <td>Electronics</td>\n",
       "      <td>4.030096</td>\n",
       "      <td>626.030484</td>\n",
       "    </tr>\n",
       "    <tr>\n",
       "      <th>...</th>\n",
       "      <td>...</td>\n",
       "      <td>...</td>\n",
       "      <td>...</td>\n",
       "      <td>...</td>\n",
       "      <td>...</td>\n",
       "      <td>...</td>\n",
       "      <td>...</td>\n",
       "      <td>...</td>\n",
       "      <td>...</td>\n",
       "      <td>...</td>\n",
       "    </tr>\n",
       "    <tr>\n",
       "      <th>99995</th>\n",
       "      <td>726461</td>\n",
       "      <td>A</td>\n",
       "      <td>2</td>\n",
       "      <td>56.078258</td>\n",
       "      <td>7/17/2023 16:59</td>\n",
       "      <td>Credit Card</td>\n",
       "      <td>3632 Darren Station Apt. 553\\nEricaborough, RI...</td>\n",
       "      <td>Clothing</td>\n",
       "      <td>18.345145</td>\n",
       "      <td>91.581240</td>\n",
       "    </tr>\n",
       "    <tr>\n",
       "      <th>99996</th>\n",
       "      <td>328056</td>\n",
       "      <td>A</td>\n",
       "      <td>6</td>\n",
       "      <td>88.516406</td>\n",
       "      <td>5/30/2023 9:04</td>\n",
       "      <td>Credit Card</td>\n",
       "      <td>821 Taylor Shoals\\nEvansville, IL 70845</td>\n",
       "      <td>Electronics</td>\n",
       "      <td>3.995541</td>\n",
       "      <td>509.878179</td>\n",
       "    </tr>\n",
       "    <tr>\n",
       "      <th>99997</th>\n",
       "      <td>887304</td>\n",
       "      <td>B</td>\n",
       "      <td>4</td>\n",
       "      <td>72.385564</td>\n",
       "      <td>8/25/2023 7:59</td>\n",
       "      <td>Credit Card</td>\n",
       "      <td>50653 Kara Lakes\\nStephanieborough, RI 94492</td>\n",
       "      <td>Clothing</td>\n",
       "      <td>17.423979</td>\n",
       "      <td>239.092472</td>\n",
       "    </tr>\n",
       "    <tr>\n",
       "      <th>99998</th>\n",
       "      <td>326401</td>\n",
       "      <td>C</td>\n",
       "      <td>5</td>\n",
       "      <td>66.542239</td>\n",
       "      <td>2/5/2024 19:45</td>\n",
       "      <td>PayPal</td>\n",
       "      <td>18756 Mcfarland Way Suite 866\\nBarnettside, PR...</td>\n",
       "      <td>Electronics</td>\n",
       "      <td>14.345018</td>\n",
       "      <td>284.983717</td>\n",
       "    </tr>\n",
       "    <tr>\n",
       "      <th>99999</th>\n",
       "      <td>771566</td>\n",
       "      <td>C</td>\n",
       "      <td>5</td>\n",
       "      <td>38.087766</td>\n",
       "      <td>2/4/2024 11:53</td>\n",
       "      <td>Debit Card</td>\n",
       "      <td>8046 Hull Drive\\nPaulstad, GU 87218</td>\n",
       "      <td>Home Decor</td>\n",
       "      <td>2.966058</td>\n",
       "      <td>184.790305</td>\n",
       "    </tr>\n",
       "  </tbody>\n",
       "</table>\n",
       "<p>100000 rows × 10 columns</p>\n",
       "</div>"
      ],
      "text/plain": [
       "       CustomerID ProductID  Quantity      Price   TransactionDate  \\\n",
       "0          109318         C         7  80.079844  12/26/2023 12:32   \n",
       "1          993229         C         4  75.195229     8/5/2023 0:00   \n",
       "2          579675         A         8  31.528816   3/11/2024 18:51   \n",
       "3          799826         D         5  98.880218  10/27/2023 22:00   \n",
       "4          121413         A         7  93.188512  12/22/2023 11:38   \n",
       "...           ...       ...       ...        ...               ...   \n",
       "99995      726461         A         2  56.078258   7/17/2023 16:59   \n",
       "99996      328056         A         6  88.516406    5/30/2023 9:04   \n",
       "99997      887304         B         4  72.385564    8/25/2023 7:59   \n",
       "99998      326401         C         5  66.542239    2/5/2024 19:45   \n",
       "99999      771566         C         5  38.087766    2/4/2024 11:53   \n",
       "\n",
       "      PaymentMethod                                      StoreLocation  \\\n",
       "0              Cash            176 Andrew Cliffs\\nBaileyfort, HI 93354   \n",
       "1              Cash  11635 William Well Suite 809\\nEast Kara, MT 19483   \n",
       "2              Cash  910 Mendez Ville Suite 909\\nPort Lauraland, MO...   \n",
       "3            PayPal  87522 Sharon Corners Suite 500\\nLake Tammy, MO...   \n",
       "4              Cash   0070 Michelle Island Suite 143\\nHoland, VA 80142   \n",
       "...             ...                                                ...   \n",
       "99995   Credit Card  3632 Darren Station Apt. 553\\nEricaborough, RI...   \n",
       "99996   Credit Card            821 Taylor Shoals\\nEvansville, IL 70845   \n",
       "99997   Credit Card       50653 Kara Lakes\\nStephanieborough, RI 94492   \n",
       "99998        PayPal  18756 Mcfarland Way Suite 866\\nBarnettside, PR...   \n",
       "99999    Debit Card                8046 Hull Drive\\nPaulstad, GU 87218   \n",
       "\n",
       "      ProductCategory  DiscountApplied(%)  TotalAmount  \n",
       "0               Books           18.677100   455.862764  \n",
       "1          Home Decor           14.121365   258.306546  \n",
       "2               Books           15.943701   212.015651  \n",
       "3               Books            6.686337   461.343769  \n",
       "4         Electronics            4.030096   626.030484  \n",
       "...               ...                 ...          ...  \n",
       "99995        Clothing           18.345145    91.581240  \n",
       "99996     Electronics            3.995541   509.878179  \n",
       "99997        Clothing           17.423979   239.092472  \n",
       "99998     Electronics           14.345018   284.983717  \n",
       "99999      Home Decor            2.966058   184.790305  \n",
       "\n",
       "[100000 rows x 10 columns]"
      ]
     },
     "execution_count": 3,
     "metadata": {},
     "output_type": "execute_result"
    }
   ],
   "source": [
    "data = pd. read_csv('Retail_Transaction_Dataset.csv')\n",
    "data"
   ]
  },
  {
   "cell_type": "code",
   "execution_count": 4,
   "id": "1f46f4e7",
   "metadata": {},
   "outputs": [],
   "source": [
    "data['TransactionDate'] = pd.to_datetime(data['TransactionDate'])"
   ]
  },
  {
   "cell_type": "code",
   "execution_count": 5,
   "id": "cf0e1edc",
   "metadata": {},
   "outputs": [
    {
     "data": {
      "application/vnd.jupyter.widget-view+json": {
       "model_id": "cc0514f319fa44cc999f865dc73dc570",
       "version_major": 2,
       "version_minor": 0
      },
      "text/plain": [
       "Summarize dataset:   0%|          | 0/5 [00:00<?, ?it/s]"
      ]
     },
     "metadata": {},
     "output_type": "display_data"
    },
    {
     "name": "stderr",
     "output_type": "stream",
     "text": [
      "100%|██████████| 10/10 [00:02<00:00,  3.40it/s]\n"
     ]
    },
    {
     "data": {
      "application/vnd.jupyter.widget-view+json": {
       "model_id": "fc516ea639ae40ef880a980738609419",
       "version_major": 2,
       "version_minor": 0
      },
      "text/plain": [
       "Generate report structure:   0%|          | 0/1 [00:00<?, ?it/s]"
      ]
     },
     "metadata": {},
     "output_type": "display_data"
    },
    {
     "data": {
      "application/vnd.jupyter.widget-view+json": {
       "model_id": "b4f8d29932d7493e85dc6717a6e09bc9",
       "version_major": 2,
       "version_minor": 0
      },
      "text/plain": [
       "Render HTML:   0%|          | 0/1 [00:00<?, ?it/s]"
      ]
     },
     "metadata": {},
     "output_type": "display_data"
    },
    {
     "data": {
      "application/vnd.jupyter.widget-view+json": {
       "model_id": "33b1d2b5a32e4ac3865845d3823b349d",
       "version_major": 2,
       "version_minor": 0
      },
      "text/plain": [
       "Export report to file:   0%|          | 0/1 [00:00<?, ?it/s]"
      ]
     },
     "metadata": {},
     "output_type": "display_data"
    }
   ],
   "source": [
    "profile = ProfileReport(data, title = \"EDA report\", explorative= True)\n",
    "profile.to_file(\"eda_report.html\")"
   ]
  },
  {
   "cell_type": "code",
   "execution_count": 6,
   "id": "7523ee3d",
   "metadata": {},
   "outputs": [
    {
     "data": {
      "text/plain": [
       "Index(['CustomerID', 'ProductID', 'Quantity', 'Price', 'TransactionDate',\n",
       "       'PaymentMethod', 'StoreLocation', 'ProductCategory',\n",
       "       'DiscountApplied(%)', 'TotalAmount'],\n",
       "      dtype='object')"
      ]
     },
     "execution_count": 6,
     "metadata": {},
     "output_type": "execute_result"
    }
   ],
   "source": [
    "data.columns"
   ]
  },
  {
   "cell_type": "code",
   "execution_count": 7,
   "id": "f487f5ea",
   "metadata": {},
   "outputs": [
    {
     "data": {
      "text/html": [
       "<div>\n",
       "<style scoped>\n",
       "    .dataframe tbody tr th:only-of-type {\n",
       "        vertical-align: middle;\n",
       "    }\n",
       "\n",
       "    .dataframe tbody tr th {\n",
       "        vertical-align: top;\n",
       "    }\n",
       "\n",
       "    .dataframe thead th {\n",
       "        text-align: right;\n",
       "    }\n",
       "</style>\n",
       "<table border=\"1\" class=\"dataframe\">\n",
       "  <thead>\n",
       "    <tr style=\"text-align: right;\">\n",
       "      <th></th>\n",
       "      <th>CustomerID</th>\n",
       "      <th>Quantity</th>\n",
       "      <th>Price</th>\n",
       "      <th>TransactionDate</th>\n",
       "      <th>PaymentMethod</th>\n",
       "      <th>StoreLocation</th>\n",
       "      <th>ProductCategory</th>\n",
       "      <th>DiscountApplied(%)</th>\n",
       "      <th>TotalAmount</th>\n",
       "    </tr>\n",
       "  </thead>\n",
       "  <tbody>\n",
       "    <tr>\n",
       "      <th>0</th>\n",
       "      <td>109318</td>\n",
       "      <td>7</td>\n",
       "      <td>80.079844</td>\n",
       "      <td>2023-12-26 12:32:00</td>\n",
       "      <td>Cash</td>\n",
       "      <td>176 Andrew Cliffs\\nBaileyfort, HI 93354</td>\n",
       "      <td>Books</td>\n",
       "      <td>18.677100</td>\n",
       "      <td>455.862764</td>\n",
       "    </tr>\n",
       "    <tr>\n",
       "      <th>1</th>\n",
       "      <td>993229</td>\n",
       "      <td>4</td>\n",
       "      <td>75.195229</td>\n",
       "      <td>2023-08-05 00:00:00</td>\n",
       "      <td>Cash</td>\n",
       "      <td>11635 William Well Suite 809\\nEast Kara, MT 19483</td>\n",
       "      <td>Home Decor</td>\n",
       "      <td>14.121365</td>\n",
       "      <td>258.306546</td>\n",
       "    </tr>\n",
       "    <tr>\n",
       "      <th>2</th>\n",
       "      <td>579675</td>\n",
       "      <td>8</td>\n",
       "      <td>31.528816</td>\n",
       "      <td>2024-03-11 18:51:00</td>\n",
       "      <td>Cash</td>\n",
       "      <td>910 Mendez Ville Suite 909\\nPort Lauraland, MO...</td>\n",
       "      <td>Books</td>\n",
       "      <td>15.943701</td>\n",
       "      <td>212.015651</td>\n",
       "    </tr>\n",
       "    <tr>\n",
       "      <th>3</th>\n",
       "      <td>799826</td>\n",
       "      <td>5</td>\n",
       "      <td>98.880218</td>\n",
       "      <td>2023-10-27 22:00:00</td>\n",
       "      <td>PayPal</td>\n",
       "      <td>87522 Sharon Corners Suite 500\\nLake Tammy, MO...</td>\n",
       "      <td>Books</td>\n",
       "      <td>6.686337</td>\n",
       "      <td>461.343769</td>\n",
       "    </tr>\n",
       "    <tr>\n",
       "      <th>4</th>\n",
       "      <td>121413</td>\n",
       "      <td>7</td>\n",
       "      <td>93.188512</td>\n",
       "      <td>2023-12-22 11:38:00</td>\n",
       "      <td>Cash</td>\n",
       "      <td>0070 Michelle Island Suite 143\\nHoland, VA 80142</td>\n",
       "      <td>Electronics</td>\n",
       "      <td>4.030096</td>\n",
       "      <td>626.030484</td>\n",
       "    </tr>\n",
       "    <tr>\n",
       "      <th>...</th>\n",
       "      <td>...</td>\n",
       "      <td>...</td>\n",
       "      <td>...</td>\n",
       "      <td>...</td>\n",
       "      <td>...</td>\n",
       "      <td>...</td>\n",
       "      <td>...</td>\n",
       "      <td>...</td>\n",
       "      <td>...</td>\n",
       "    </tr>\n",
       "    <tr>\n",
       "      <th>99995</th>\n",
       "      <td>726461</td>\n",
       "      <td>2</td>\n",
       "      <td>56.078258</td>\n",
       "      <td>2023-07-17 16:59:00</td>\n",
       "      <td>Credit Card</td>\n",
       "      <td>3632 Darren Station Apt. 553\\nEricaborough, RI...</td>\n",
       "      <td>Clothing</td>\n",
       "      <td>18.345145</td>\n",
       "      <td>91.581240</td>\n",
       "    </tr>\n",
       "    <tr>\n",
       "      <th>99996</th>\n",
       "      <td>328056</td>\n",
       "      <td>6</td>\n",
       "      <td>88.516406</td>\n",
       "      <td>2023-05-30 09:04:00</td>\n",
       "      <td>Credit Card</td>\n",
       "      <td>821 Taylor Shoals\\nEvansville, IL 70845</td>\n",
       "      <td>Electronics</td>\n",
       "      <td>3.995541</td>\n",
       "      <td>509.878179</td>\n",
       "    </tr>\n",
       "    <tr>\n",
       "      <th>99997</th>\n",
       "      <td>887304</td>\n",
       "      <td>4</td>\n",
       "      <td>72.385564</td>\n",
       "      <td>2023-08-25 07:59:00</td>\n",
       "      <td>Credit Card</td>\n",
       "      <td>50653 Kara Lakes\\nStephanieborough, RI 94492</td>\n",
       "      <td>Clothing</td>\n",
       "      <td>17.423979</td>\n",
       "      <td>239.092472</td>\n",
       "    </tr>\n",
       "    <tr>\n",
       "      <th>99998</th>\n",
       "      <td>326401</td>\n",
       "      <td>5</td>\n",
       "      <td>66.542239</td>\n",
       "      <td>2024-02-05 19:45:00</td>\n",
       "      <td>PayPal</td>\n",
       "      <td>18756 Mcfarland Way Suite 866\\nBarnettside, PR...</td>\n",
       "      <td>Electronics</td>\n",
       "      <td>14.345018</td>\n",
       "      <td>284.983717</td>\n",
       "    </tr>\n",
       "    <tr>\n",
       "      <th>99999</th>\n",
       "      <td>771566</td>\n",
       "      <td>5</td>\n",
       "      <td>38.087766</td>\n",
       "      <td>2024-02-04 11:53:00</td>\n",
       "      <td>Debit Card</td>\n",
       "      <td>8046 Hull Drive\\nPaulstad, GU 87218</td>\n",
       "      <td>Home Decor</td>\n",
       "      <td>2.966058</td>\n",
       "      <td>184.790305</td>\n",
       "    </tr>\n",
       "  </tbody>\n",
       "</table>\n",
       "<p>100000 rows × 9 columns</p>\n",
       "</div>"
      ],
      "text/plain": [
       "       CustomerID  Quantity      Price     TransactionDate PaymentMethod  \\\n",
       "0          109318         7  80.079844 2023-12-26 12:32:00          Cash   \n",
       "1          993229         4  75.195229 2023-08-05 00:00:00          Cash   \n",
       "2          579675         8  31.528816 2024-03-11 18:51:00          Cash   \n",
       "3          799826         5  98.880218 2023-10-27 22:00:00        PayPal   \n",
       "4          121413         7  93.188512 2023-12-22 11:38:00          Cash   \n",
       "...           ...       ...        ...                 ...           ...   \n",
       "99995      726461         2  56.078258 2023-07-17 16:59:00   Credit Card   \n",
       "99996      328056         6  88.516406 2023-05-30 09:04:00   Credit Card   \n",
       "99997      887304         4  72.385564 2023-08-25 07:59:00   Credit Card   \n",
       "99998      326401         5  66.542239 2024-02-05 19:45:00        PayPal   \n",
       "99999      771566         5  38.087766 2024-02-04 11:53:00    Debit Card   \n",
       "\n",
       "                                           StoreLocation ProductCategory  \\\n",
       "0                176 Andrew Cliffs\\nBaileyfort, HI 93354           Books   \n",
       "1      11635 William Well Suite 809\\nEast Kara, MT 19483      Home Decor   \n",
       "2      910 Mendez Ville Suite 909\\nPort Lauraland, MO...           Books   \n",
       "3      87522 Sharon Corners Suite 500\\nLake Tammy, MO...           Books   \n",
       "4       0070 Michelle Island Suite 143\\nHoland, VA 80142     Electronics   \n",
       "...                                                  ...             ...   \n",
       "99995  3632 Darren Station Apt. 553\\nEricaborough, RI...        Clothing   \n",
       "99996            821 Taylor Shoals\\nEvansville, IL 70845     Electronics   \n",
       "99997       50653 Kara Lakes\\nStephanieborough, RI 94492        Clothing   \n",
       "99998  18756 Mcfarland Way Suite 866\\nBarnettside, PR...     Electronics   \n",
       "99999                8046 Hull Drive\\nPaulstad, GU 87218      Home Decor   \n",
       "\n",
       "       DiscountApplied(%)  TotalAmount  \n",
       "0               18.677100   455.862764  \n",
       "1               14.121365   258.306546  \n",
       "2               15.943701   212.015651  \n",
       "3                6.686337   461.343769  \n",
       "4                4.030096   626.030484  \n",
       "...                   ...          ...  \n",
       "99995           18.345145    91.581240  \n",
       "99996            3.995541   509.878179  \n",
       "99997           17.423979   239.092472  \n",
       "99998           14.345018   284.983717  \n",
       "99999            2.966058   184.790305  \n",
       "\n",
       "[100000 rows x 9 columns]"
      ]
     },
     "execution_count": 7,
     "metadata": {},
     "output_type": "execute_result"
    }
   ],
   "source": [
    "data = data.drop('ProductID', axis = 1)\n",
    "data"
   ]
  },
  {
   "cell_type": "code",
   "execution_count": 8,
   "id": "a8e52cc0",
   "metadata": {},
   "outputs": [
    {
     "data": {
      "text/html": [
       "<div>\n",
       "<style scoped>\n",
       "    .dataframe tbody tr th:only-of-type {\n",
       "        vertical-align: middle;\n",
       "    }\n",
       "\n",
       "    .dataframe tbody tr th {\n",
       "        vertical-align: top;\n",
       "    }\n",
       "\n",
       "    .dataframe thead th {\n",
       "        text-align: right;\n",
       "    }\n",
       "</style>\n",
       "<table border=\"1\" class=\"dataframe\">\n",
       "  <thead>\n",
       "    <tr style=\"text-align: right;\">\n",
       "      <th></th>\n",
       "      <th>CustomerID</th>\n",
       "      <th>Quantity</th>\n",
       "      <th>Price</th>\n",
       "      <th>TransactionDate</th>\n",
       "      <th>DiscountApplied(%)</th>\n",
       "      <th>TotalAmount</th>\n",
       "    </tr>\n",
       "  </thead>\n",
       "  <tbody>\n",
       "    <tr>\n",
       "      <th>count</th>\n",
       "      <td>100000.000000</td>\n",
       "      <td>100000.000000</td>\n",
       "      <td>100000.000000</td>\n",
       "      <td>100000</td>\n",
       "      <td>100000.000000</td>\n",
       "      <td>100000.000000</td>\n",
       "    </tr>\n",
       "    <tr>\n",
       "      <th>mean</th>\n",
       "      <td>500463.982180</td>\n",
       "      <td>5.009290</td>\n",
       "      <td>55.067344</td>\n",
       "      <td>2023-10-29 15:40:05.471399936</td>\n",
       "      <td>10.020155</td>\n",
       "      <td>248.334955</td>\n",
       "    </tr>\n",
       "    <tr>\n",
       "      <th>min</th>\n",
       "      <td>14.000000</td>\n",
       "      <td>1.000000</td>\n",
       "      <td>10.000430</td>\n",
       "      <td>2023-04-29 22:27:00</td>\n",
       "      <td>0.000046</td>\n",
       "      <td>8.274825</td>\n",
       "    </tr>\n",
       "    <tr>\n",
       "      <th>25%</th>\n",
       "      <td>250693.750000</td>\n",
       "      <td>3.000000</td>\n",
       "      <td>32.549474</td>\n",
       "      <td>2023-07-30 06:45:15</td>\n",
       "      <td>5.001013</td>\n",
       "      <td>95.163418</td>\n",
       "    </tr>\n",
       "    <tr>\n",
       "      <th>50%</th>\n",
       "      <td>499679.000000</td>\n",
       "      <td>5.000000</td>\n",
       "      <td>55.116789</td>\n",
       "      <td>2023-10-30 05:12:30</td>\n",
       "      <td>10.030353</td>\n",
       "      <td>200.368393</td>\n",
       "    </tr>\n",
       "    <tr>\n",
       "      <th>75%</th>\n",
       "      <td>751104.750000</td>\n",
       "      <td>7.000000</td>\n",
       "      <td>77.456763</td>\n",
       "      <td>2024-01-29 05:44:00</td>\n",
       "      <td>15.018367</td>\n",
       "      <td>362.009980</td>\n",
       "    </tr>\n",
       "    <tr>\n",
       "      <th>max</th>\n",
       "      <td>999997.000000</td>\n",
       "      <td>9.000000</td>\n",
       "      <td>99.999284</td>\n",
       "      <td>2024-04-28 22:22:00</td>\n",
       "      <td>19.999585</td>\n",
       "      <td>896.141242</td>\n",
       "    </tr>\n",
       "    <tr>\n",
       "      <th>std</th>\n",
       "      <td>288460.917524</td>\n",
       "      <td>2.579808</td>\n",
       "      <td>25.971567</td>\n",
       "      <td>NaN</td>\n",
       "      <td>5.779534</td>\n",
       "      <td>184.554792</td>\n",
       "    </tr>\n",
       "  </tbody>\n",
       "</table>\n",
       "</div>"
      ],
      "text/plain": [
       "          CustomerID       Quantity          Price  \\\n",
       "count  100000.000000  100000.000000  100000.000000   \n",
       "mean   500463.982180       5.009290      55.067344   \n",
       "min        14.000000       1.000000      10.000430   \n",
       "25%    250693.750000       3.000000      32.549474   \n",
       "50%    499679.000000       5.000000      55.116789   \n",
       "75%    751104.750000       7.000000      77.456763   \n",
       "max    999997.000000       9.000000      99.999284   \n",
       "std    288460.917524       2.579808      25.971567   \n",
       "\n",
       "                     TransactionDate  DiscountApplied(%)    TotalAmount  \n",
       "count                         100000       100000.000000  100000.000000  \n",
       "mean   2023-10-29 15:40:05.471399936           10.020155     248.334955  \n",
       "min              2023-04-29 22:27:00            0.000046       8.274825  \n",
       "25%              2023-07-30 06:45:15            5.001013      95.163418  \n",
       "50%              2023-10-30 05:12:30           10.030353     200.368393  \n",
       "75%              2024-01-29 05:44:00           15.018367     362.009980  \n",
       "max              2024-04-28 22:22:00           19.999585     896.141242  \n",
       "std                              NaN            5.779534     184.554792  "
      ]
     },
     "execution_count": 8,
     "metadata": {},
     "output_type": "execute_result"
    }
   ],
   "source": [
    "data.describe()"
   ]
  },
  {
   "cell_type": "code",
   "execution_count": 9,
   "id": "6242089b",
   "metadata": {},
   "outputs": [
    {
     "data": {
      "text/plain": [
       "4785"
      ]
     },
     "execution_count": 9,
     "metadata": {},
     "output_type": "execute_result"
    }
   ],
   "source": [
    "data['CustomerID'].duplicated().sum()"
   ]
  },
  {
   "cell_type": "code",
   "execution_count": 10,
   "id": "a510d2f8",
   "metadata": {},
   "outputs": [
    {
     "data": {
      "text/plain": [
       "CustomerID\n",
       "59        2\n",
       "299       2\n",
       "442       2\n",
       "959       2\n",
       "975       2\n",
       "         ..\n",
       "998832    2\n",
       "999390    2\n",
       "999509    2\n",
       "999766    2\n",
       "999781    2\n",
       "Length: 4621, dtype: int64"
      ]
     },
     "execution_count": 10,
     "metadata": {},
     "output_type": "execute_result"
    }
   ],
   "source": [
    "repeat_customer = data.groupby('CustomerID').size()\n",
    "\n",
    "repeat_customer = repeat_customer[repeat_customer>1]\n",
    "repeat_customer"
   ]
  },
  {
   "cell_type": "code",
   "execution_count": 31,
   "id": "7d782bad",
   "metadata": {},
   "outputs": [
    {
     "data": {
      "image/png": "[encoded data removed]",
      "text/plain": [
       "<Figure size 640x480 with 1 Axes>"
      ]
     },
     "metadata": {},
     "output_type": "display_data"
    }
   ],
   "source": [
    "data.groupby('TransactionDate')['TotalAmount'].sum().plot()\n",
    "plt.title(\"Daily sales Trend\")\n",
    "plt.xlabel(\"Date\")\n",
    "plt.ylabel(\"Total Revenue\")\n",
    "plt.xticks(rotation = 45)\n",
    "plt.tight_layout()\n",
    "plt.savefig(\"images/daily_sales_trend.png\")\n",
    "plt.show()"
   ]
  },
  {
   "cell_type": "code",
   "execution_count": 12,
   "id": "e37fb17e",
   "metadata": {},
   "outputs": [
    {
     "data": {
      "text/plain": [
       "ProductCategory\n",
       "Books          126047\n",
       "Electronics    125347\n",
       "Clothing       125044\n",
       "Home Decor     124491\n",
       "Name: Quantity, dtype: int64"
      ]
     },
     "execution_count": 12,
     "metadata": {},
     "output_type": "execute_result"
    }
   ],
   "source": [
    "data.groupby('ProductCategory')['Quantity'].sum().sort_values(ascending=False)"
   ]
  },
  {
   "cell_type": "code",
   "execution_count": 13,
   "id": "4c1fdc31",
   "metadata": {},
   "outputs": [
    {
     "data": {
      "text/plain": [
       "CustomerID                     int64\n",
       "Quantity                       int64\n",
       "Price                        float64\n",
       "TransactionDate       datetime64[ns]\n",
       "PaymentMethod                 object\n",
       "StoreLocation                 object\n",
       "ProductCategory               object\n",
       "DiscountApplied(%)           float64\n",
       "TotalAmount                  float64\n",
       "dtype: object"
      ]
     },
     "execution_count": 13,
     "metadata": {},
     "output_type": "execute_result"
    }
   ],
   "source": [
    "data.dtypes"
   ]
  },
  {
   "cell_type": "code",
   "execution_count": 33,
   "id": "1b4859fd",
   "metadata": {},
   "outputs": [
    {
     "data": {
      "image/png": "[encoded data removed]",
      "text/plain": [
       "<Figure size 640x480 with 1 Axes>"
      ]
     },
     "metadata": {},
     "output_type": "display_data"
    }
   ],
   "source": [
    "data.describe()\n",
    "data['Quantity'].hist(bins=20)\n",
    "plt.title(\"Quantity Distribution\")\n",
    "plt.savefig('images/Quantity Hist.png')\n",
    "plt.show()"
   ]
  },
  {
   "cell_type": "code",
   "execution_count": 34,
   "id": "0b749c28",
   "metadata": {},
   "outputs": [
    {
     "data": {
      "image/png": "[encoded data removed]",
      "text/plain": [
       "<Figure size 640x480 with 1 Axes>"
      ]
     },
     "metadata": {},
     "output_type": "display_data"
    }
   ],
   "source": [
    "data['ProductCategory'].value_counts().plot(kind = 'bar')\n",
    "plt.title(\"Product Category \")\n",
    "plt.xticks(rotation = 45)\n",
    "plt.savefig(\"images/Product Category Bar\")\n",
    "plt.show()"
   ]
  },
  {
   "cell_type": "code",
   "execution_count": 16,
   "id": "7630a6f0",
   "metadata": {},
   "outputs": [
    {
     "data": {
      "text/html": [
       "<div>\n",
       "<style scoped>\n",
       "    .dataframe tbody tr th:only-of-type {\n",
       "        vertical-align: middle;\n",
       "    }\n",
       "\n",
       "    .dataframe tbody tr th {\n",
       "        vertical-align: top;\n",
       "    }\n",
       "\n",
       "    .dataframe thead th {\n",
       "        text-align: right;\n",
       "    }\n",
       "</style>\n",
       "<table border=\"1\" class=\"dataframe\">\n",
       "  <thead>\n",
       "    <tr style=\"text-align: right;\">\n",
       "      <th></th>\n",
       "      <th>CustomerID</th>\n",
       "      <th>Quantity</th>\n",
       "      <th>Price</th>\n",
       "      <th>TransactionDate</th>\n",
       "      <th>DiscountApplied(%)</th>\n",
       "      <th>TotalAmount</th>\n",
       "    </tr>\n",
       "  </thead>\n",
       "  <tbody>\n",
       "    <tr>\n",
       "      <th>count</th>\n",
       "      <td>25031.000000</td>\n",
       "      <td>25031.000000</td>\n",
       "      <td>25031.000000</td>\n",
       "      <td>25031</td>\n",
       "      <td>25031.000000</td>\n",
       "      <td>25031.000000</td>\n",
       "    </tr>\n",
       "    <tr>\n",
       "      <th>mean</th>\n",
       "      <td>502008.504095</td>\n",
       "      <td>5.035636</td>\n",
       "      <td>55.101589</td>\n",
       "      <td>2023-10-29 11:55:43.726578944</td>\n",
       "      <td>9.996935</td>\n",
       "      <td>250.003477</td>\n",
       "    </tr>\n",
       "    <tr>\n",
       "      <th>min</th>\n",
       "      <td>14.000000</td>\n",
       "      <td>1.000000</td>\n",
       "      <td>10.000430</td>\n",
       "      <td>2023-04-29 22:29:00</td>\n",
       "      <td>0.001990</td>\n",
       "      <td>8.360628</td>\n",
       "    </tr>\n",
       "    <tr>\n",
       "      <th>25%</th>\n",
       "      <td>253109.000000</td>\n",
       "      <td>3.000000</td>\n",
       "      <td>32.358658</td>\n",
       "      <td>2023-07-30 03:02:30</td>\n",
       "      <td>4.945441</td>\n",
       "      <td>95.666972</td>\n",
       "    </tr>\n",
       "    <tr>\n",
       "      <th>50%</th>\n",
       "      <td>501111.000000</td>\n",
       "      <td>5.000000</td>\n",
       "      <td>55.108855</td>\n",
       "      <td>2023-10-30 14:29:00</td>\n",
       "      <td>9.986510</td>\n",
       "      <td>202.069798</td>\n",
       "    </tr>\n",
       "    <tr>\n",
       "      <th>75%</th>\n",
       "      <td>752416.500000</td>\n",
       "      <td>7.000000</td>\n",
       "      <td>77.847875</td>\n",
       "      <td>2024-01-29 04:22:30</td>\n",
       "      <td>15.030997</td>\n",
       "      <td>364.345734</td>\n",
       "    </tr>\n",
       "    <tr>\n",
       "      <th>max</th>\n",
       "      <td>999897.000000</td>\n",
       "      <td>9.000000</td>\n",
       "      <td>99.992917</td>\n",
       "      <td>2024-04-28 22:03:00</td>\n",
       "      <td>19.999585</td>\n",
       "      <td>895.343955</td>\n",
       "    </tr>\n",
       "    <tr>\n",
       "      <th>std</th>\n",
       "      <td>288229.128734</td>\n",
       "      <td>2.571364</td>\n",
       "      <td>26.058218</td>\n",
       "      <td>NaN</td>\n",
       "      <td>5.793780</td>\n",
       "      <td>185.031891</td>\n",
       "    </tr>\n",
       "  </tbody>\n",
       "</table>\n",
       "</div>"
      ],
      "text/plain": [
       "          CustomerID      Quantity         Price  \\\n",
       "count   25031.000000  25031.000000  25031.000000   \n",
       "mean   502008.504095      5.035636     55.101589   \n",
       "min        14.000000      1.000000     10.000430   \n",
       "25%    253109.000000      3.000000     32.358658   \n",
       "50%    501111.000000      5.000000     55.108855   \n",
       "75%    752416.500000      7.000000     77.847875   \n",
       "max    999897.000000      9.000000     99.992917   \n",
       "std    288229.128734      2.571364     26.058218   \n",
       "\n",
       "                     TransactionDate  DiscountApplied(%)   TotalAmount  \n",
       "count                          25031        25031.000000  25031.000000  \n",
       "mean   2023-10-29 11:55:43.726578944            9.996935    250.003477  \n",
       "min              2023-04-29 22:29:00            0.001990      8.360628  \n",
       "25%              2023-07-30 03:02:30            4.945441     95.666972  \n",
       "50%              2023-10-30 14:29:00            9.986510    202.069798  \n",
       "75%              2024-01-29 04:22:30           15.030997    364.345734  \n",
       "max              2024-04-28 22:03:00           19.999585    895.343955  \n",
       "std                              NaN            5.793780    185.031891  "
      ]
     },
     "execution_count": 16,
     "metadata": {},
     "output_type": "execute_result"
    }
   ],
   "source": [
    "book_data = data[data['ProductCategory'] == 'Books']\n",
    "book_data.describe()"
   ]
  },
  {
   "cell_type": "code",
   "execution_count": 17,
   "id": "a43eb77d",
   "metadata": {},
   "outputs": [
    {
     "data": {
      "text/html": [
       "<div>\n",
       "<style scoped>\n",
       "    .dataframe tbody tr th:only-of-type {\n",
       "        vertical-align: middle;\n",
       "    }\n",
       "\n",
       "    .dataframe tbody tr th {\n",
       "        vertical-align: top;\n",
       "    }\n",
       "\n",
       "    .dataframe thead th {\n",
       "        text-align: right;\n",
       "    }\n",
       "</style>\n",
       "<table border=\"1\" class=\"dataframe\">\n",
       "  <thead>\n",
       "    <tr style=\"text-align: right;\">\n",
       "      <th></th>\n",
       "      <th>CustomerID</th>\n",
       "      <th>Quantity</th>\n",
       "      <th>Price</th>\n",
       "      <th>TransactionDate</th>\n",
       "      <th>DiscountApplied(%)</th>\n",
       "      <th>TotalAmount</th>\n",
       "    </tr>\n",
       "  </thead>\n",
       "  <tbody>\n",
       "    <tr>\n",
       "      <th>count</th>\n",
       "      <td>24990.000000</td>\n",
       "      <td>24990.000000</td>\n",
       "      <td>24990.000000</td>\n",
       "      <td>24990</td>\n",
       "      <td>24990.000000</td>\n",
       "      <td>24990.000000</td>\n",
       "    </tr>\n",
       "    <tr>\n",
       "      <th>mean</th>\n",
       "      <td>499389.264466</td>\n",
       "      <td>5.015886</td>\n",
       "      <td>54.958181</td>\n",
       "      <td>2023-10-28 12:58:26.525810432</td>\n",
       "      <td>9.981941</td>\n",
       "      <td>247.968578</td>\n",
       "    </tr>\n",
       "    <tr>\n",
       "      <th>min</th>\n",
       "      <td>49.000000</td>\n",
       "      <td>1.000000</td>\n",
       "      <td>10.001419</td>\n",
       "      <td>2023-04-29 22:39:00</td>\n",
       "      <td>0.000292</td>\n",
       "      <td>8.574627</td>\n",
       "    </tr>\n",
       "    <tr>\n",
       "      <th>25%</th>\n",
       "      <td>247821.250000</td>\n",
       "      <td>3.000000</td>\n",
       "      <td>32.456089</td>\n",
       "      <td>2023-07-29 21:49:45</td>\n",
       "      <td>4.985107</td>\n",
       "      <td>94.562250</td>\n",
       "    </tr>\n",
       "    <tr>\n",
       "      <th>50%</th>\n",
       "      <td>499008.500000</td>\n",
       "      <td>5.000000</td>\n",
       "      <td>55.065190</td>\n",
       "      <td>2023-10-28 06:47:30</td>\n",
       "      <td>9.969857</td>\n",
       "      <td>199.806145</td>\n",
       "    </tr>\n",
       "    <tr>\n",
       "      <th>75%</th>\n",
       "      <td>747013.000000</td>\n",
       "      <td>7.000000</td>\n",
       "      <td>77.268145</td>\n",
       "      <td>2024-01-26 18:11:15</td>\n",
       "      <td>14.925656</td>\n",
       "      <td>362.294749</td>\n",
       "    </tr>\n",
       "    <tr>\n",
       "      <th>max</th>\n",
       "      <td>999977.000000</td>\n",
       "      <td>9.000000</td>\n",
       "      <td>99.983141</td>\n",
       "      <td>2024-04-28 22:07:00</td>\n",
       "      <td>19.999501</td>\n",
       "      <td>890.821751</td>\n",
       "    </tr>\n",
       "    <tr>\n",
       "      <th>std</th>\n",
       "      <td>288025.206251</td>\n",
       "      <td>2.582681</td>\n",
       "      <td>25.999440</td>\n",
       "      <td>NaN</td>\n",
       "      <td>5.760479</td>\n",
       "      <td>184.552661</td>\n",
       "    </tr>\n",
       "  </tbody>\n",
       "</table>\n",
       "</div>"
      ],
      "text/plain": [
       "          CustomerID      Quantity         Price  \\\n",
       "count   24990.000000  24990.000000  24990.000000   \n",
       "mean   499389.264466      5.015886     54.958181   \n",
       "min        49.000000      1.000000     10.001419   \n",
       "25%    247821.250000      3.000000     32.456089   \n",
       "50%    499008.500000      5.000000     55.065190   \n",
       "75%    747013.000000      7.000000     77.268145   \n",
       "max    999977.000000      9.000000     99.983141   \n",
       "std    288025.206251      2.582681     25.999440   \n",
       "\n",
       "                     TransactionDate  DiscountApplied(%)   TotalAmount  \n",
       "count                          24990        24990.000000  24990.000000  \n",
       "mean   2023-10-28 12:58:26.525810432            9.981941    247.968578  \n",
       "min              2023-04-29 22:39:00            0.000292      8.574627  \n",
       "25%              2023-07-29 21:49:45            4.985107     94.562250  \n",
       "50%              2023-10-28 06:47:30            9.969857    199.806145  \n",
       "75%              2024-01-26 18:11:15           14.925656    362.294749  \n",
       "max              2024-04-28 22:07:00           19.999501    890.821751  \n",
       "std                              NaN            5.760479    184.552661  "
      ]
     },
     "execution_count": 17,
     "metadata": {},
     "output_type": "execute_result"
    }
   ],
   "source": [
    "electronnics_data = data[data['ProductCategory'] == 'Electronics']\n",
    "electronnics_data.describe()"
   ]
  },
  {
   "cell_type": "code",
   "execution_count": 18,
   "id": "ee133335",
   "metadata": {},
   "outputs": [
    {
     "data": {
      "text/html": [
       "<div>\n",
       "<style scoped>\n",
       "    .dataframe tbody tr th:only-of-type {\n",
       "        vertical-align: middle;\n",
       "    }\n",
       "\n",
       "    .dataframe tbody tr th {\n",
       "        vertical-align: top;\n",
       "    }\n",
       "\n",
       "    .dataframe thead th {\n",
       "        text-align: right;\n",
       "    }\n",
       "</style>\n",
       "<table border=\"1\" class=\"dataframe\">\n",
       "  <thead>\n",
       "    <tr style=\"text-align: right;\">\n",
       "      <th></th>\n",
       "      <th>CustomerID</th>\n",
       "      <th>Quantity</th>\n",
       "      <th>Price</th>\n",
       "      <th>TransactionDate</th>\n",
       "      <th>DiscountApplied(%)</th>\n",
       "      <th>TotalAmount</th>\n",
       "    </tr>\n",
       "  </thead>\n",
       "  <tbody>\n",
       "    <tr>\n",
       "      <th>count</th>\n",
       "      <td>25056.000000</td>\n",
       "      <td>25056.000000</td>\n",
       "      <td>25056.000000</td>\n",
       "      <td>25056</td>\n",
       "      <td>25056.000000</td>\n",
       "      <td>25056.000000</td>\n",
       "    </tr>\n",
       "    <tr>\n",
       "      <th>mean</th>\n",
       "      <td>498322.535361</td>\n",
       "      <td>4.990581</td>\n",
       "      <td>55.127468</td>\n",
       "      <td>2023-10-29 19:26:52.825670400</td>\n",
       "      <td>10.019378</td>\n",
       "      <td>247.665324</td>\n",
       "    </tr>\n",
       "    <tr>\n",
       "      <th>min</th>\n",
       "      <td>59.000000</td>\n",
       "      <td>1.000000</td>\n",
       "      <td>10.003563</td>\n",
       "      <td>2023-04-29 22:27:00</td>\n",
       "      <td>0.000046</td>\n",
       "      <td>8.359100</td>\n",
       "    </tr>\n",
       "    <tr>\n",
       "      <th>25%</th>\n",
       "      <td>247915.000000</td>\n",
       "      <td>3.000000</td>\n",
       "      <td>32.713303</td>\n",
       "      <td>2023-07-29 20:10:45</td>\n",
       "      <td>4.964759</td>\n",
       "      <td>94.448967</td>\n",
       "    </tr>\n",
       "    <tr>\n",
       "      <th>50%</th>\n",
       "      <td>496127.000000</td>\n",
       "      <td>5.000000</td>\n",
       "      <td>55.281919</td>\n",
       "      <td>2023-10-30 10:45:00</td>\n",
       "      <td>10.022710</td>\n",
       "      <td>199.553389</td>\n",
       "    </tr>\n",
       "    <tr>\n",
       "      <th>75%</th>\n",
       "      <td>752646.250000</td>\n",
       "      <td>7.000000</td>\n",
       "      <td>77.454263</td>\n",
       "      <td>2024-01-30 11:17:30</td>\n",
       "      <td>15.042447</td>\n",
       "      <td>361.878589</td>\n",
       "    </tr>\n",
       "    <tr>\n",
       "      <th>max</th>\n",
       "      <td>999997.000000</td>\n",
       "      <td>9.000000</td>\n",
       "      <td>99.999284</td>\n",
       "      <td>2024-04-28 22:22:00</td>\n",
       "      <td>19.998331</td>\n",
       "      <td>889.148765</td>\n",
       "    </tr>\n",
       "    <tr>\n",
       "      <th>std</th>\n",
       "      <td>289094.318047</td>\n",
       "      <td>2.580786</td>\n",
       "      <td>25.936640</td>\n",
       "      <td>NaN</td>\n",
       "      <td>5.801867</td>\n",
       "      <td>184.350697</td>\n",
       "    </tr>\n",
       "  </tbody>\n",
       "</table>\n",
       "</div>"
      ],
      "text/plain": [
       "          CustomerID      Quantity         Price  \\\n",
       "count   25056.000000  25056.000000  25056.000000   \n",
       "mean   498322.535361      4.990581     55.127468   \n",
       "min        59.000000      1.000000     10.003563   \n",
       "25%    247915.000000      3.000000     32.713303   \n",
       "50%    496127.000000      5.000000     55.281919   \n",
       "75%    752646.250000      7.000000     77.454263   \n",
       "max    999997.000000      9.000000     99.999284   \n",
       "std    289094.318047      2.580786     25.936640   \n",
       "\n",
       "                     TransactionDate  DiscountApplied(%)   TotalAmount  \n",
       "count                          25056        25056.000000  25056.000000  \n",
       "mean   2023-10-29 19:26:52.825670400           10.019378    247.665324  \n",
       "min              2023-04-29 22:27:00            0.000046      8.359100  \n",
       "25%              2023-07-29 20:10:45            4.964759     94.448967  \n",
       "50%              2023-10-30 10:45:00           10.022710    199.553389  \n",
       "75%              2024-01-30 11:17:30           15.042447    361.878589  \n",
       "max              2024-04-28 22:22:00           19.998331    889.148765  \n",
       "std                              NaN            5.801867    184.350697  "
      ]
     },
     "execution_count": 18,
     "metadata": {},
     "output_type": "execute_result"
    }
   ],
   "source": [
    "clothing_data = data[data['ProductCategory'] == 'Clothing']\n",
    "clothing_data.describe()"
   ]
  },
  {
   "cell_type": "code",
   "execution_count": 19,
   "id": "209e92ac",
   "metadata": {},
   "outputs": [
    {
     "data": {
      "text/html": [
       "<div>\n",
       "<style scoped>\n",
       "    .dataframe tbody tr th:only-of-type {\n",
       "        vertical-align: middle;\n",
       "    }\n",
       "\n",
       "    .dataframe tbody tr th {\n",
       "        vertical-align: top;\n",
       "    }\n",
       "\n",
       "    .dataframe thead th {\n",
       "        text-align: right;\n",
       "    }\n",
       "</style>\n",
       "<table border=\"1\" class=\"dataframe\">\n",
       "  <thead>\n",
       "    <tr style=\"text-align: right;\">\n",
       "      <th></th>\n",
       "      <th>CustomerID</th>\n",
       "      <th>Quantity</th>\n",
       "      <th>Price</th>\n",
       "      <th>TransactionDate</th>\n",
       "      <th>DiscountApplied(%)</th>\n",
       "      <th>TotalAmount</th>\n",
       "    </tr>\n",
       "  </thead>\n",
       "  <tbody>\n",
       "    <tr>\n",
       "      <th>count</th>\n",
       "      <td>24923.000000</td>\n",
       "      <td>24923.000000</td>\n",
       "      <td>24923.000000</td>\n",
       "      <td>24923</td>\n",
       "      <td>24923.000000</td>\n",
       "      <td>24923.000000</td>\n",
       "    </tr>\n",
       "    <tr>\n",
       "      <th>mean</th>\n",
       "      <td>502143.248686</td>\n",
       "      <td>4.995025</td>\n",
       "      <td>55.081963</td>\n",
       "      <td>2023-10-30 18:23:22.868033280</td>\n",
       "      <td>10.082572</td>\n",
       "      <td>247.699770</td>\n",
       "    </tr>\n",
       "    <tr>\n",
       "      <th>min</th>\n",
       "      <td>42.000000</td>\n",
       "      <td>1.000000</td>\n",
       "      <td>10.000591</td>\n",
       "      <td>2023-04-29 22:45:00</td>\n",
       "      <td>0.000112</td>\n",
       "      <td>8.274825</td>\n",
       "    </tr>\n",
       "    <tr>\n",
       "      <th>25%</th>\n",
       "      <td>254712.000000</td>\n",
       "      <td>3.000000</td>\n",
       "      <td>32.796101</td>\n",
       "      <td>2023-07-31 03:47:00</td>\n",
       "      <td>5.099004</td>\n",
       "      <td>95.909302</td>\n",
       "    </tr>\n",
       "    <tr>\n",
       "      <th>50%</th>\n",
       "      <td>503299.000000</td>\n",
       "      <td>5.000000</td>\n",
       "      <td>54.992074</td>\n",
       "      <td>2023-10-31 20:32:00</td>\n",
       "      <td>10.145134</td>\n",
       "      <td>200.062302</td>\n",
       "    </tr>\n",
       "    <tr>\n",
       "      <th>75%</th>\n",
       "      <td>752905.500000</td>\n",
       "      <td>7.000000</td>\n",
       "      <td>77.325094</td>\n",
       "      <td>2024-01-30 03:52:00</td>\n",
       "      <td>15.081632</td>\n",
       "      <td>360.290265</td>\n",
       "    </tr>\n",
       "    <tr>\n",
       "      <th>max</th>\n",
       "      <td>999902.000000</td>\n",
       "      <td>9.000000</td>\n",
       "      <td>99.998469</td>\n",
       "      <td>2024-04-28 22:17:00</td>\n",
       "      <td>19.999555</td>\n",
       "      <td>896.141242</td>\n",
       "    </tr>\n",
       "    <tr>\n",
       "      <th>std</th>\n",
       "      <td>288491.010202</td>\n",
       "      <td>2.584309</td>\n",
       "      <td>25.892639</td>\n",
       "      <td>NaN</td>\n",
       "      <td>5.761595</td>\n",
       "      <td>184.282867</td>\n",
       "    </tr>\n",
       "  </tbody>\n",
       "</table>\n",
       "</div>"
      ],
      "text/plain": [
       "          CustomerID      Quantity         Price  \\\n",
       "count   24923.000000  24923.000000  24923.000000   \n",
       "mean   502143.248686      4.995025     55.081963   \n",
       "min        42.000000      1.000000     10.000591   \n",
       "25%    254712.000000      3.000000     32.796101   \n",
       "50%    503299.000000      5.000000     54.992074   \n",
       "75%    752905.500000      7.000000     77.325094   \n",
       "max    999902.000000      9.000000     99.998469   \n",
       "std    288491.010202      2.584309     25.892639   \n",
       "\n",
       "                     TransactionDate  DiscountApplied(%)   TotalAmount  \n",
       "count                          24923        24923.000000  24923.000000  \n",
       "mean   2023-10-30 18:23:22.868033280           10.082572    247.699770  \n",
       "min              2023-04-29 22:45:00            0.000112      8.274825  \n",
       "25%              2023-07-31 03:47:00            5.099004     95.909302  \n",
       "50%              2023-10-31 20:32:00           10.145134    200.062302  \n",
       "75%              2024-01-30 03:52:00           15.081632    360.290265  \n",
       "max              2024-04-28 22:17:00           19.999555    896.141242  \n",
       "std                              NaN            5.761595    184.282867  "
      ]
     },
     "execution_count": 19,
     "metadata": {},
     "output_type": "execute_result"
    }
   ],
   "source": [
    "HomeDecor_data = data[data['ProductCategory'] == 'Home Decor']\n",
    "HomeDecor_data.describe()"
   ]
  },
  {
   "cell_type": "code",
   "execution_count": 20,
   "id": "587eb8c3",
   "metadata": {},
   "outputs": [],
   "source": [
    "import seaborn as sns"
   ]
  },
  {
   "cell_type": "code",
   "execution_count": 35,
   "id": "672c6996",
   "metadata": {},
   "outputs": [
    {
     "data": {
      "image/png": "[encoded data removed]",
      "text/plain": [
       "<Figure size 640x480 with 2 Axes>"
      ]
     },
     "metadata": {},
     "output_type": "display_data"
    }
   ],
   "source": [
    "plt.Figure(figsize=(10,7))\n",
    "sns.heatmap(data.corr(numeric_only= True), annot = True, cmap='coolwarm')\n",
    "plt.title('Correlation Matrix')\n",
    "plt.savefig(\"images/Correlation Matrix.png\")\n",
    "plt.show()"
   ]
  },
  {
   "cell_type": "code",
   "execution_count": 22,
   "id": "52c0ce48",
   "metadata": {},
   "outputs": [
    {
     "data": {
      "text/plain": [
       "24833495.506385516"
      ]
     },
     "execution_count": 22,
     "metadata": {},
     "output_type": "execute_result"
    }
   ],
   "source": [
    "data['TotalAmount'].sum()"
   ]
  },
  {
   "cell_type": "code",
   "execution_count": 23,
   "id": "ac7c865d",
   "metadata": {},
   "outputs": [
    {
     "data": {
      "text/plain": [
       "248.33495506385518"
      ]
     },
     "execution_count": 23,
     "metadata": {},
     "output_type": "execute_result"
    }
   ],
   "source": [
    "data['TotalAmount'].mean()"
   ]
  },
  {
   "cell_type": "code",
   "execution_count": 24,
   "id": "4de6e70f",
   "metadata": {},
   "outputs": [
    {
     "data": {
      "text/plain": [
       "array(['Books', 'Home Decor', 'Electronics', 'Clothing'], dtype=object)"
      ]
     },
     "execution_count": 24,
     "metadata": {},
     "output_type": "execute_result"
    }
   ],
   "source": [
    "data['ProductCategory'].unique()"
   ]
  },
  {
   "cell_type": "code",
   "execution_count": 25,
   "id": "b40a55a8",
   "metadata": {},
   "outputs": [
    {
     "data": {
      "text/plain": [
       "4621"
      ]
     },
     "execution_count": 25,
     "metadata": {},
     "output_type": "execute_result"
    }
   ],
   "source": [
    "data['CustomerID'].value_counts()[data['CustomerID'].value_counts()>1].count()"
   ]
  },
  {
   "cell_type": "code",
   "execution_count": 26,
   "id": "b184880b",
   "metadata": {},
   "outputs": [
    {
     "data": {
      "text/plain": [
       "ProductCategory\n",
       "Electronics    2391\n",
       "Clothing       2380\n",
       "Books          2320\n",
       "Home Decor     2315\n",
       "Name: count, dtype: int64"
      ]
     },
     "execution_count": 26,
     "metadata": {},
     "output_type": "execute_result"
    }
   ],
   "source": [
    "repeat_customer = data.groupby(\"CustomerID\").filter(lambda x : len(x)>1)\n",
    "repeat_by_category = repeat_customer['ProductCategory'].value_counts()\n",
    "repeat_by_category"
   ]
  },
  {
   "cell_type": "code",
   "execution_count": 36,
   "id": "a8191f82",
   "metadata": {},
   "outputs": [
    {
     "data": {
      "image/png": "[encoded data removed]",
      "text/plain": [
       "<Figure size 1000x500 with 1 Axes>"
      ]
     },
     "metadata": {},
     "output_type": "display_data"
    }
   ],
   "source": [
    "data['Month'] = data['TransactionDate'].dt.to_period('M')\n",
    "monthly_sale = data.groupby('Month')['TotalAmount'].sum()\n",
    "monthly_sale.plot(kind = 'bar', figsize=(10,5),title='Monthly Sales')\n",
    "plt.savefig(\"images/Monthly Sales.png\")\n",
    "plt.show()"
   ]
  },
  {
   "cell_type": "code",
   "execution_count": 37,
   "id": "4cee85fc",
   "metadata": {},
   "outputs": [
    {
     "name": "stderr",
     "output_type": "stream",
     "text": [
      "C:\\Users\\Asus\\AppData\\Local\\Temp\\ipykernel_18464\\3142779803.py:1: FutureWarning: 'w' is deprecated and will be removed in a future version, please use 'W' instead.\n",
      "  data['Week'] = data['TransactionDate'].dt.to_period('w').apply(lambda r: r.start_time)\n"
     ]
    },
    {
     "data": {
      "image/png": "[encoded data removed]",
      "text/plain": [
       "<Figure size 1000x500 with 1 Axes>"
      ]
     },
     "metadata": {},
     "output_type": "display_data"
    }
   ],
   "source": [
    "data['Week'] = data['TransactionDate'].dt.to_period('w').apply(lambda r: r.start_time)\n",
    "weekly_sales = data.groupby('Week')['TotalAmount'].sum()\n",
    "weekly_sales.plot(kind = 'line', figsize = (10,5), title= \"Weekly Sales\")\n",
    "plt.xlabel(\"Week\")\n",
    "plt.ylabel(\"Total Sale\")\n",
    "plt.xticks(rotation = 45)\n",
    "plt.grid = True\n",
    "plt.tight_layout()\n",
    "plt.savefig(\"images/Weekly Sales.png\")\n",
    "plt.show()"
   ]
  },
  {
   "cell_type": "code",
   "execution_count": 38,
   "id": "018f9993",
   "metadata": {},
   "outputs": [
    {
     "data": {
      "image/png": "[encoded data removed]",
      "text/plain": [
       "<Figure size 640x480 with 1 Axes>"
      ]
     },
     "metadata": {},
     "output_type": "display_data"
    }
   ],
   "source": [
    "data['DayOfWeek'] = data['TransactionDate'].dt.day_of_week\n",
    "data['DayType'] = data['DayOfWeek'].apply(lambda x: 'weekend' if x>=5 else 'weekday')\n",
    "\n",
    "avgDaytypeSales = data.groupby('DayType')['TotalAmount'].mean()\n",
    "avgDaytypeSales.plot(kind = 'bar', title= 'Weekend VS weekday Sales', color = ['skyblue','orange'])\n",
    "plt.ylabel('Total Revenue')\n",
    "plt.grid= True\n",
    "plt.tight_layout()\n",
    "plt.savefig('images/Weekday VS weekend sales')\n",
    "plt.show()"
   ]
  },
  {
   "cell_type": "code",
   "execution_count": 39,
   "id": "cceaa2bd",
   "metadata": {},
   "outputs": [
    {
     "data": {
      "image/png": "[encoded data removed]",
      "text/plain": [
       "<Figure size 1000x500 with 1 Axes>"
      ]
     },
     "metadata": {},
     "output_type": "display_data"
    }
   ],
   "source": [
    "data['Hour'] = data['TransactionDate'].dt.hour\n",
    "hourly_sales = data.groupby('Hour')['TotalAmount'].sum()\n",
    "hourly_sales.plot(kind='bar', figsize=(10,5), color='mediumseagreen')\n",
    "plt.title(\"Total Sales by Hour of Day\")\n",
    "plt.xlabel(\"Hour (0-23)\")\n",
    "plt.ylabel(\"Total Sales\")\n",
    "plt.xticks(rotation=0)\n",
    "plt.tight_layout()\n",
    "\n",
    "# to show total amount in numeric formate of full value\n",
    "import matplotlib.ticker as ticker\n",
    "plt.gca().yaxis.set_major_formatter(ticker.FuncFormatter(lambda x, _: f'{x:,.0f}'))\n",
    "\n",
    "plt.savefig('images/Hourly Sales.png')\n",
    "plt.show()"
   ]
  }
 ],
 "metadata": {
  "kernelspec": {
   "display_name": "base",
   "language": "python",
   "name": "python3"
  },
  "language_info": {
   "codemirror_mode": {
    "name": "ipython",
    "version": 3
   },
   "file_extension": ".py",
   "mimetype": "text/x-python",
   "name": "python",
   "nbconvert_exporter": "python",
   "pygments_lexer": "ipython3",
   "version": "3.12.7"
  }
 },
 "nbformat": 4,
 "nbformat_minor": 5
}
